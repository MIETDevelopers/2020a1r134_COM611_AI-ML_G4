{
 "cells": [
  {
   "cell_type": "markdown",
   "id": "1a638fcf",
   "metadata": {},
   "source": [
    "# Importing Libraries"
   ]
  },
  {
   "cell_type": "code",
   "execution_count": 1,
   "id": "99db4a32",
   "metadata": {},
   "outputs": [],
   "source": [
    "import pandas as pd\n",
    "import numpy as np"
   ]
  },
  {
   "cell_type": "markdown",
   "id": "1749044d",
   "metadata": {},
   "source": [
    "# Reading Dataset"
   ]
  },
  {
   "cell_type": "code",
   "execution_count": 2,
   "id": "f9074f3a",
   "metadata": {},
   "outputs": [
    {
     "name": "stdout",
     "output_type": "stream",
     "text": [
      "     sky air temp humidity    wind water forecast enjoy sport\n",
      "0  sunny     warm   normal  strong  warm     same         yes\n",
      "1  sunny     warm     high  strong  warm     same         yes\n",
      "2  rainy     cold     high  strong  warm   change          no\n",
      "3  sunny     warm     high  strong  cool   change         yes\n"
     ]
    }
   ],
   "source": [
    "data = pd.read_csv('dset1.csv')\n",
    "print(data)"
   ]
  },
  {
   "cell_type": "markdown",
   "id": "0353a3c9",
   "metadata": {},
   "source": [
    "# Printing Dataset"
   ]
  },
  {
   "cell_type": "code",
   "execution_count": 3,
   "id": "5de083d2",
   "metadata": {},
   "outputs": [
    {
     "name": "stdout",
     "output_type": "stream",
     "text": [
      "[['sunny' 'warm' 'normal' 'strong' 'warm' 'same']\n",
      " ['sunny' 'warm' 'high' 'strong' 'warm' 'same']\n",
      " ['rainy' 'cold' 'high' 'strong' 'warm' 'change']\n",
      " ['sunny' 'warm' 'high' 'strong' 'cool' 'change']]\n"
     ]
    }
   ],
   "source": [
    "concepts = np.array(data)[:,:-1]\n",
    "print(concepts)"
   ]
  },
  {
   "cell_type": "markdown",
   "id": "6342ea12",
   "metadata": {},
   "source": [
    "# Checking Positive & Negative Values"
   ]
  },
  {
   "cell_type": "code",
   "execution_count": 4,
   "id": "922f4bb1",
   "metadata": {},
   "outputs": [
    {
     "name": "stdout",
     "output_type": "stream",
     "text": [
      "['yes' 'yes' 'no' 'yes']\n"
     ]
    }
   ],
   "source": [
    "target = np.array(data)[:,-1]\n",
    "print(target)"
   ]
  },
  {
   "cell_type": "markdown",
   "id": "0b310480",
   "metadata": {},
   "source": [
    "# Running the code with training data set"
   ]
  },
  {
   "cell_type": "code",
   "execution_count": 5,
   "id": "33564f5e",
   "metadata": {},
   "outputs": [],
   "source": [
    "def train(con,tar):\n",
    "    for i,val in enumerate(tar):\n",
    "        if val=='yes':\n",
    "            specific_h = con[i].copy()\n",
    "            break\n",
    "            \n",
    "    for i,val in enumerate(con):\n",
    "        if tar[i]=='yes':\n",
    "            for x in range(len(specific_h)):\n",
    "                if val[x] != specific_h[x]:\n",
    "                    specific_h[x] = '?'\n",
    "                else:\n",
    "                    pass\n",
    "    return specific_h"
   ]
  },
  {
   "cell_type": "markdown",
   "id": "ffcbc2be",
   "metadata": {},
   "source": [
    "# Generating the output"
   ]
  },
  {
   "cell_type": "code",
   "execution_count": 6,
   "id": "276ec604",
   "metadata": {},
   "outputs": [
    {
     "name": "stdout",
     "output_type": "stream",
     "text": [
      "['sunny' 'warm' '?' 'strong' '?' '?']\n"
     ]
    }
   ],
   "source": [
    "print(train(concepts,target))"
   ]
  }
 ],
 "metadata": {
  "kernelspec": {
   "display_name": "Python 3 (ipykernel)",
   "language": "python",
   "name": "python3"
  },
  "language_info": {
   "codemirror_mode": {
    "name": "ipython",
    "version": 3
   },
   "file_extension": ".py",
   "mimetype": "text/x-python",
   "name": "python",
   "nbconvert_exporter": "python",
   "pygments_lexer": "ipython3",
   "version": "3.9.7"
  }
 },
 "nbformat": 4,
 "nbformat_minor": 5
}
