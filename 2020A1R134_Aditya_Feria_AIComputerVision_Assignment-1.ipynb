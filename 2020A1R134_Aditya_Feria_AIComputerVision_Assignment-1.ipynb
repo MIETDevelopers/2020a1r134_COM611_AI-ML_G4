{
 "cells": [
  {
   "cell_type": "code",
   "execution_count": null,
   "id": "694cd7ef",
   "metadata": {},
   "outputs": [],
   "source": [
    "'''Q1: MovieLens 1M Dataset GroupLens Research provides a number of collections of movie ratings data\n",
    "    collected from users of MovieLens in the late 1990s and early 2000s. The data provide movie ratings, \n",
    "    movie metadata (genres and year), and demographic data about the users (age, zip code, gender identification,\n",
    "    and occupation). Such data is often of interest in the development of recommendation systems based on machine learning\n",
    "    algorithms. While we do not explore machine learning techniques in detail in this book, I will show you how to\n",
    "    slice and dice datasets like these into the exact form you need. The MovieLens 1M dataset contains 1 million \n",
    "    ratings collected from 6,000 users on 4,000 movies. It’s spread across three tables: ratings, user information,\n",
    "    and movie information. After extracting the data from the ZIP file, we can load each table into a pandas DataFrame\n",
    "    object using pandas.read_table and perform the following task.\n",
    "    \n",
    "1.    Perform null values identification in the given dataset.\n",
    "\n",
    "2.    Identify types of attributes in the dataset.\n",
    "\n",
    "3.    Plot Box plot and violin plot. (also state the inference of each attribute and also find the outlier in the attribute)\n",
    "\n",
    "4.    Histogram and identification of overlapping.(also state the inference for each attribute.)\n",
    "\n",
    "5.    Draw different types of scatter plot.(using seaborn library) \n",
    "\n",
    "6.    Univariate and multivariate analysis.'''\n"
   ]
  },
  {
   "cell_type": "code",
   "execution_count": null,
   "id": "d457ea23",
   "metadata": {},
   "outputs": [],
   "source": [
    "import pandas as pd\n",
    "\n",
    "# Load data into DataFrames\n",
    "ratings_df = pd.read_csv(\"ratings.csv\")\n",
    "users_df = pd.read_csv(\"tags.csv\")\n",
    "movies_df = pd.read_csv(\"movies.csv\")\n",
    "\n",
    "# Check for null values\n",
    "print(ratings_df.isnull().sum())\n",
    "print(users_df.isnull().sum())\n",
    "print(movies_df.isnull().sum())"
   ]
  },
  {
   "cell_type": "code",
   "execution_count": null,
   "id": "ff893a76",
   "metadata": {},
   "outputs": [],
   "source": [
    "import matplotlib.pyplot as plt\n",
    "\n",
    "# Plot box plot and violin plot\n",
    "ratings_df.boxplot(column=['UserID', 'MovieID', 'Rating', 'Timestamp'])\n",
    "plt.show()\n",
    "\n",
    "ratings_df[['UserID', 'MovieID', 'Rating', 'Timestamp']].plot(kind='density', subplots=True, layout=(2, 2), sharex=False)\n",
    "plt.show()"
   ]
  },
  {
   "cell_type": "code",
   "execution_count": null,
   "id": "728754af",
   "metadata": {},
   "outputs": [],
   "source": [
    "# Plot histograms\n",
    "ratings_df[['UserID', 'MovieID', 'Rating', 'Timestamp']].hist(figsize=(10, 10), bins=10)\n",
    "plt.show()"
   ]
  },
  {
   "cell_type": "code",
   "execution_count": null,
   "id": "fdda2b62",
   "metadata": {},
   "outputs": [],
   "source": [
    "# Plot histograms\n",
    "ratings_df[['UserID', 'MovieID', 'Rating', 'Timestamp']].hist(figsize=(10, 10), bins=10)\n",
    "plt.show()"
   ]
  },
  {
   "cell_type": "code",
   "execution_count": null,
   "id": "4feeae6f",
   "metadata": {},
   "outputs": [],
   "source": [
    "# Univariate analysis\n",
    "print(ratings_df.describe())\n",
    "\n",
    "# Multivariate analysis\n",
    "print(ratings_df.corr())"
   ]
  },
  {
   "cell_type": "code",
   "execution_count": null,
   "id": "53e6b63a",
   "metadata": {},
   "outputs": [],
   "source": [
    "'''Q2: Diabetics datasets :                                                                                                         (5 marks)\n",
    "\n",
    " Data Exploration: This includes inspecting the data, visualizing the data, and cleaning the data. Some of the steps used are as follows:\n",
    "\n",
    "1. Viewing the data statistics.\n",
    "\n",
    "2. Finding out the dimensions of the dataset, the variable names, the data types, etc.\n",
    "\n",
    "3. Checking for null values.\n",
    "\n",
    "4. Inspecting the target variable using pie plot and count plot.\n",
    "\n",
    "5. Finding out the correlation among different features using heatmap and the bivariate relation between each pair of features using pair plot.\n",
    "\n",
    "Model Training: 5 Classification Algorithms have been used to find out the best one. These are Logistic Regression, Support Vector Machine, Random Forest, K-Nearest Neighbours, and Naive Bayes.\n",
    "\n",
    "In each of the algorithms, the steps followed are as follows:\n",
    "\n",
    "1. Importing the library for the algorithm.\n",
    "\n",
    "2. Creating an instance of the Classifier (with default values of parameters or by specifying certain values in certain cases).\n",
    "\n",
    "3. Training the model on the train set.\n",
    "\n",
    "4. Prediction on the test set using the trained model.\n",
    "\n",
    "5. Calculating the accuracy of the prediction.\n",
    "'''"
   ]
  },
  {
   "cell_type": "code",
   "execution_count": null,
   "id": "823579e4",
   "metadata": {},
   "outputs": [],
   "source": [
    "df.describe()\n",
    "\n",
    "print(df.shape) # dimensions of the dataset\n",
    "print(df.columns) # variable names\n",
    "print(df.info()) # data types\n",
    "\n",
    "print(df.isnull().sum()) # number of null values in each variable\n",
    "\n",
    "print(df['Outcome'].value_counts()) # distribution of the target variable\n",
    "plt.pie(df['Outcome'].value_counts(), labels=['Non-diabetic', 'Diabetic'], autopct='%1.1f%%') # pie plot\n",
    "sns.countplot(x='Outcome', data=df) # count plot\n",
    "\n",
    "corr = df.corr()\n",
    "sns.heatmap(corr, cmap='coolwarm', annot=True, fmt='.2f')\n",
    "\n",
    "sns.pairplot(df, hue='Outcome')"
   ]
  }
 ],
 "metadata": {
  "kernelspec": {
   "display_name": "Python 3 (ipykernel)",
   "language": "python",
   "name": "python3"
  },
  "language_info": {
   "codemirror_mode": {
    "name": "ipython",
    "version": 3
   },
   "file_extension": ".py",
   "mimetype": "text/x-python",
   "name": "python",
   "nbconvert_exporter": "python",
   "pygments_lexer": "ipython3",
   "version": "3.9.7"
  }
 },
 "nbformat": 4,
 "nbformat_minor": 5
}
